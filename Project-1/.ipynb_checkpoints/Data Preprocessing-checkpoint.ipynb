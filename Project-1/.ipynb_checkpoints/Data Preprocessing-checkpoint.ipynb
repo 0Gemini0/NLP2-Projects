{
 "cells": [
  {
   "cell_type": "code",
   "execution_count": 15,
   "metadata": {
    "collapsed": false
   },
   "outputs": [
    {
     "name": "stdout",
     "output_type": "stream",
     "text": [
      "Preprocessing training set\n"
     ]
    }
   ],
   "source": [
    "directory_to_preprocess = \"training\" #\"training\" training\" \"validation\"\n",
    "\n",
    "if (directory_to_preprocess == \"training\"):\n",
    "    english_file = directory_to_preprocess + \"/hansards.36.2.e\"\n",
    "    french_file  = directory_to_preprocess + \"/hansards.36.2.f\"\n",
    "    print(\"Preprocessing training set\")\n",
    "    \n",
    "elif (directory_to_preprocess == \"validation\"):\n",
    "    english_file = directory_to_preprocess + \"/dev.e\"\n",
    "    french_file  = directory_to_preprocess + \"/dev.f\"\n",
    "    print(\"Preprocessing validation set\")\n",
    "    \n",
    "else:\n",
    "    print(\"ERROR: pick either \\\"training\\\" or \\\"validation\\\"\")"
   ]
  },
  {
   "cell_type": "code",
   "execution_count": 17,
   "metadata": {
    "collapsed": false
   },
   "outputs": [],
   "source": [
    "import cPickle\n",
    "\n",
    "with open(english_file) as f:\n",
    "    sentences_english = f.read().splitlines()\n",
    "with open(french_file) as f:\n",
    "    sentences_french = f.read().splitlines()\n",
    "    \n",
    "\n",
    "\n",
    "paired = []\n",
    "for i, sentence_english in enumerate(sentences_english):\n",
    "    paired.append([(\"null \" + sentence_english.decode('utf-8')).split(\" \")[0:-1], sentences_french[i].decode('utf-8').split(\" \")[0:-1]])\n",
    "#     ##TODO: CHECK IF DECODE WORKS PROPERLY\n",
    "    \n",
    "\n",
    "#cPickle.dump(paired, open(directory_to_preprocess + \"_pairs\", 'wb'))"
   ]
  },
  {
   "cell_type": "code",
   "execution_count": 24,
   "metadata": {
    "collapsed": false
   },
   "outputs": [
    {
     "name": "stdout",
     "output_type": "stream",
     "text": [
      "0.000999927520752\n",
      "Avg: 0.000999927520752\n",
      "{u'e': 0, u'Session': 0, u'36': 0, u',': 0, u'2': 0, u'L\\xe9gislature': 0, u'i\\xe8me': 0}\n"
     ]
    }
   ],
   "source": [
    "import time\n",
    "import numpy as np\n",
    "\n",
    "translation = {}\n",
    "start = time.time()\n",
    "clock = []\n",
    "for i,pair in enumerate(paired):\n",
    "    for enWord in pair[0]:\n",
    "        if enWord not in translation.keys():\n",
    "            translation[enWord] = {}\n",
    "        for frWord in pair[1]:\n",
    "            translation[enWord][frWord] = 0\n",
    "    if i % 100 == 0:\n",
    "        end = time.time()\n",
    "        clock.append(end-start)\n",
    "        print end - start\n",
    "        start = end\n",
    "    if i % 10000 == 0 && i != 0:\n",
    "        print \"Avg: \" + str(np.mean(clock)) \n",
    "        break\n",
    "            \n",
    "print(translation[pair[0][0]])\n",
    "            \n",
    "#cPickle.dump(translation, open(directory_to_preprocess + \"_empty_dictionary\", 'wb'))\n",
    "\n",
    "        \n",
    "    "
   ]
  },
  {
   "cell_type": "code",
   "execution_count": 20,
   "metadata": {
    "collapsed": false
   },
   "outputs": [
    {
     "ename": "TypeError",
     "evalue": "object of type 'builtin_function_or_method' has no len()",
     "output_type": "error",
     "traceback": [
      "\u001b[0;31m---------------------------------------------------------------------------\u001b[0m",
      "\u001b[0;31mTypeError\u001b[0m                                 Traceback (most recent call last)",
      "\u001b[0;32m<ipython-input-20-1da11675e1c4>\u001b[0m in \u001b[0;36m<module>\u001b[0;34m()\u001b[0m\n\u001b[0;32m----> 1\u001b[0;31m \u001b[1;32mprint\u001b[0m\u001b[1;33m(\u001b[0m\u001b[0mlen\u001b[0m\u001b[1;33m(\u001b[0m\u001b[0mtranslation\u001b[0m\u001b[1;33m.\u001b[0m\u001b[0mkeys\u001b[0m\u001b[1;33m)\u001b[0m\u001b[1;33m)\u001b[0m\u001b[1;33m\u001b[0m\u001b[0m\n\u001b[0m",
      "\u001b[0;31mTypeError\u001b[0m: object of type 'builtin_function_or_method' has no len()"
     ]
    }
   ],
   "source": [
    "print(len(translation.keys))"
   ]
  },
  {
   "cell_type": "code",
   "execution_count": null,
   "metadata": {
    "collapsed": true
   },
   "outputs": [],
   "source": []
  }
 ],
 "metadata": {
  "anaconda-cloud": {},
  "kernelspec": {
   "display_name": "Python [py27]",
   "language": "python",
   "name": "Python [py27]"
  },
  "language_info": {
   "codemirror_mode": {
    "name": "ipython",
    "version": 2
   },
   "file_extension": ".py",
   "mimetype": "text/x-python",
   "name": "python",
   "nbconvert_exporter": "python",
   "pygments_lexer": "ipython2",
   "version": "2.7.12"
  }
 },
 "nbformat": 4,
 "nbformat_minor": 1
}
