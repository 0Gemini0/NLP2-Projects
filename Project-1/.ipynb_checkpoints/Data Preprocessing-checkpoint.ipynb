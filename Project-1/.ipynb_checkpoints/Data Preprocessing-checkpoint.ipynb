{
 "cells": [
  {
   "cell_type": "code",
   "execution_count": 11,
   "metadata": {
    "collapsed": false
   },
   "outputs": [
    {
     "name": "stdout",
     "output_type": "stream",
     "text": [
      "Preprocessing validation set\n"
     ]
    }
   ],
   "source": [
    "directory_to_preprocess = \"validation\" #\"training\" \"validation\"\n",
    "\n",
    "if (directory_to_preprocess == \"training\"):\n",
    "    english_file = directory_to_preprocess + \"/hansards.36.2.e\"\n",
    "    french_file  = directory_to_preprocess + \"/hansards.36.2.f\"\n",
    "    print(\"Preprocessing training set\")\n",
    "    \n",
    "elif (directory_to_preprocess == \"validation\"):\n",
    "    english_file = directory_to_preprocess + \"/dev.e\"\n",
    "    french_file  = directory_to_preprocess + \"/dev.f\"\n",
    "    print(\"Preprocessing validation set\")\n",
    "    \n",
    "else:\n",
    "    print(\"ERROR: pick either \\\"training\\\" or \\\"validation\\\"\")"
   ]
  },
  {
   "cell_type": "code",
   "execution_count": 18,
   "metadata": {
    "collapsed": false
   },
   "outputs": [],
   "source": [
    "import cPickle\n",
    "\n",
    "with open(english_file) as f:\n",
    "    sentences_english = f.readlines()\n",
    "with open(french_file) as f:\n",
    "    sentences_french = f.readlines()\n",
    "    \n",
    "\n",
    "paired = []\n",
    "for i, sentence_english in enumerate(sentences_english):\n",
    "    paired.append([sentence_english.decode('utf-8'), sentences_french[i].decode('utf-8')])\n",
    "    ##TODO: CHECK IF DECODE WORKS PROPERLY\n",
    "    \n",
    "#print(paired)"
   ]
  },
  {
   "cell_type": "code",
   "execution_count": null,
   "metadata": {
    "collapsed": true
   },
   "outputs": [],
   "source": []
  }
 ],
 "metadata": {
  "anaconda-cloud": {},
  "kernelspec": {
   "display_name": "Python [conda root]",
   "language": "python",
   "name": "conda-root-py"
  },
  "language_info": {
   "codemirror_mode": {
    "name": "ipython",
    "version": 2
   },
   "file_extension": ".py",
   "mimetype": "text/x-python",
   "name": "python",
   "nbconvert_exporter": "python",
   "pygments_lexer": "ipython2",
   "version": "2.7.12"
  }
 },
 "nbformat": 4,
 "nbformat_minor": 1
}
