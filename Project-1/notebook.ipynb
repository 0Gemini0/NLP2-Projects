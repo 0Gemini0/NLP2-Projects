{
 "cells": [
  {
   "cell_type": "code",
   "execution_count": 40,
   "metadata": {
    "collapsed": false
   },
   "outputs": [
    {
     "name": "stdout",
     "output_type": "stream",
     "text": [
      "The autoreload extension is already loaded. To reload it, use:\n",
      "  %reload_ext autoreload\n"
     ]
    }
   ],
   "source": [
    "%load_ext autoreload\n",
    "%autoreload 2\n",
    "\n",
    "from data import DataProcessing\n",
    "from ibm1 import IBM1\n",
    "import globals\n",
    "import cPickle\n"
   ]
  },
  {
   "cell_type": "code",
   "execution_count": 2,
   "metadata": {
    "collapsed": false,
    "scrolled": true
   },
   "outputs": [
    {
     "name": "stdout",
     "output_type": "stream",
     "text": [
      "Preprocessing training set\n",
      "Preprocessing validation set\n"
     ]
    }
   ],
   "source": [
    "data_processor = DataProcessing(\"training\")\n",
    "paired_train = data_processor.generate_pairs(True)\n",
    "\n",
    "data_processor = DataProcessing(\"validation\")\n",
    "paired_val = data_processor.generate_pairs(True)\n",
    "\n",
    "tr = data_processor.init_translation_dict(paired_train, True)"
   ]
  },
  {
   "cell_type": "code",
   "execution_count": 4,
   "metadata": {
    "collapsed": false
   },
   "outputs": [
    {
     "name": "stdout",
     "output_type": "stream",
     "text": [
      "E\n",
      "-35661714.3177\n",
      "M\n",
      "E\n",
      "-23093551.7581\n",
      "M\n",
      "E\n",
      "-20252307.6982\n",
      "M\n",
      "E\n",
      "-19375222.6248\n",
      "M\n",
      "E\n",
      "-19073405.1562\n"
     ]
    }
   ],
   "source": [
    "trainPairs, valPairs, transProbs = DataProcessing.get_data()\n",
    "from ibm1 import IBM1\n",
    "model1 = IBM1()\n",
    "\n",
    "transProbs = model1.train_ibm_1(trainPairs, '', globals.THRESHOLD, [], transProbs)\n"
   ]
  },
  {
   "cell_type": "code",
   "execution_count": 38,
   "metadata": {
    "collapsed": false
   },
   "outputs": [
    {
     "name": "stdout",
     "output_type": "stream",
     "text": [
      "[(u'oeufs', 0.1403121278411714), (u'dans', 0.046207008446662035), (u'aviculture', 0.03928430073149307), (u'coquille', 0.03879843914719571), (u'oeuf', 0.0387984387707749), (u'impossible', 0.037710436891524556), (u'remettre', 0.03763235595615024), (u'hausse', 0.03694477831554522), (u'sa', 0.03648908318566244), (u'est', 0.033574509664168785)]\n"
     ]
    }
   ],
   "source": [
    "import operator\n",
    "sorted_x = sorted(transProbs[\"egg\"].items(), key=operator.itemgetter(1))\n",
    "sorted_x.reverse()\n",
    "print sorted_x[0:10]\n"
   ]
  },
  {
   "cell_type": "code",
   "execution_count": 41,
   "metadata": {
    "collapsed": false
   },
   "outputs": [],
   "source": [
    "cPickle.dump(transProbs, open(\"trans_probabilities_5_ibm_1\", 'wb'))"
   ]
  },
  {
   "cell_type": "code",
   "execution_count": null,
   "metadata": {
    "collapsed": true
   },
   "outputs": [],
   "source": []
  }
 ],
 "metadata": {
  "anaconda-cloud": {},
  "kernelspec": {
   "display_name": "Python [py27]",
   "language": "python",
   "name": "Python [py27]"
  }
 },
 "nbformat": 4,
 "nbformat_minor": 0
}
