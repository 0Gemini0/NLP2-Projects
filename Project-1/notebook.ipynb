{
 "cells": [
  {
   "cell_type": "code",
   "execution_count": 7,
   "metadata": {
    "collapsed": false
   },
   "outputs": [
    {
     "name": "stdout",
     "output_type": "stream",
     "text": [
      "The autoreload extension is already loaded. To reload it, use:\n",
      "  %reload_ext autoreload\n"
     ]
    }
   ],
   "source": [
    "%load_ext autoreload\n",
    "%autoreload 2\n",
    "\n",
    "from data import DataProcessing\n",
    "from ibm import IBM\n",
    "import globals\n",
    "import cPickle\n"
   ]
  },
  {
   "cell_type": "code",
   "execution_count": 2,
   "metadata": {
    "collapsed": false,
    "scrolled": true
   },
   "outputs": [
    {
     "name": "stdout",
     "output_type": "stream",
     "text": [
      "Preprocessing training set\n",
      "Preprocessing validation set\n"
     ]
    }
   ],
   "source": [
    "data_processor = DataProcessing(\"training\")\n",
    "paired_train = data_processor.generate_pairs(True)\n",
    "\n",
    "data_processor = DataProcessing(\"validation\")\n",
    "paired_val = data_processor.generate_pairs(True)\n",
    "\n",
    "tr = data_processor.init_translation_dict(paired_train, True)"
   ]
  },
  {
   "cell_type": "code",
   "execution_count": null,
   "metadata": {
    "collapsed": false
   },
   "outputs": [
    {
     "name": "stdout",
     "output_type": "stream",
     "text": [
      "E\n",
      "-66127855.9318\n",
      "M\n",
      "E\n",
      "-39469106.9398\n",
      "M\n",
      "E\n"
     ]
    }
   ],
   "source": [
    "#trainPairs, valPairs, transProbs = DataProcessing.get_data()\n",
    "from ibm import IBM\n",
    "model1 = IBM()\n",
    "\n",
    "transProbs, probsVogel = model1.train_ibm(trainPairs, '', globals.THRESHOLD, transProbs, \"ibm2\")\n"
   ]
  },
  {
   "cell_type": "code",
   "execution_count": 52,
   "metadata": {
    "collapsed": false
   },
   "outputs": [
    {
     "name": "stdout",
     "output_type": "stream",
     "text": [
      "[(u'matin', 0.6585298892232213), (u'ce', 0.16041690210241483), (u',', 0.025357500163131378), (u'de', 0.01681738588953075), (u'le', 0.0160629005714078), (u'a', 0.009709147423289358), (u'ai', 0.007803323863732528), (u'.', 0.007675362452093458), (u'je', 0.007506425492948835), (u'que', 0.005822633304478794)]\n"
     ]
    }
   ],
   "source": [
    "import operator\n",
    "sorted_x = sorted(transProbs[\"morning\"].items(), key=operator.itemgetter(1))\n",
    "sorted_x.reverse()\n",
    "print sorted_x[0:10]\n"
   ]
  },
  {
   "cell_type": "code",
   "execution_count": 41,
   "metadata": {
    "collapsed": false
   },
   "outputs": [],
   "source": [
    "cPickle.dump(transProbs, open(\"trans_probabilities_5_ibm_1\", 'wb'))"
   ]
  },
  {
   "cell_type": "code",
   "execution_count": 2,
   "metadata": {
    "collapsed": false
   },
   "outputs": [
    {
     "name": "stdout",
     "output_type": "stream",
     "text": [
      "{1: 2, 3: 4}\n"
     ]
    }
   ],
   "source": []
  },
  {
   "cell_type": "code",
   "execution_count": null,
   "metadata": {
    "collapsed": true
   },
   "outputs": [],
   "source": []
  }
 ],
 "metadata": {
  "anaconda-cloud": {},
  "kernelspec": {
   "display_name": "Python [py27]",
   "language": "python",
   "name": "Python [py27]"
  },
  "language_info": {
   "codemirror_mode": {
    "name": "ipython",
    "version": 2
   },
   "file_extension": ".py",
   "mimetype": "text/x-python",
   "name": "python",
   "nbconvert_exporter": "python",
   "pygments_lexer": "ipython2",
   "version": "2.7.12"
  }
 },
 "nbformat": 4,
 "nbformat_minor": 0
}
