{
 "cells": [
  {
   "cell_type": "code",
   "execution_count": 1,
   "metadata": {
    "collapsed": false
   },
   "outputs": [],
   "source": [
    "%load_ext autoreload\n",
    "%autoreload 2\n",
    "\n",
    "from data import DataProcessing\n",
    "from ibm import IBM\n",
    "import globals\n",
    "import cPickle"
   ]
  },
  {
   "cell_type": "code",
   "execution_count": 2,
   "metadata": {
    "collapsed": false,
    "scrolled": true
   },
   "outputs": [
    {
     "name": "stdout",
     "output_type": "stream",
     "text": [
      "Preprocessing training set\n",
      "Preprocessing validation set\n"
     ]
    }
   ],
   "source": [
    "data_processor = DataProcessing(\"training\")\n",
    "paired_train = data_processor.generate_pairs(True)\n",
    "\n",
    "data_processor = DataProcessing(\"validation\")\n",
    "paired_val = data_processor.generate_pairs(True)\n",
    "\n",
    "tr = data_processor.init_translation_dict(paired_train, True)"
   ]
  },
  {
   "cell_type": "code",
   "execution_count": 4,
   "metadata": {
    "collapsed": false
   },
   "outputs": [
    {
     "name": "stdout",
     "output_type": "stream",
     "text": [
      "E\n",
      "-66127855.9318\n",
      "M\n",
      "428.058000088\n",
      "E\n",
      "-39469106.9398\n",
      "M\n",
      "418.322000027\n",
      "E\n",
      "-34788138.0753\n",
      "M\n",
      "422.70600009\n",
      "E\n",
      "-33072148.1575\n",
      "M\n",
      "416.588000059\n",
      "E\n",
      "-32370609.5449\n",
      "M\n",
      "411.398000002\n",
      "E\n",
      "-32028818.1199\n"
     ]
    }
   ],
   "source": [
    "trainPairs, valPairs, transProbs = DataProcessing.get_data()\n",
    "from ibm import IBM\n",
    "model1 = IBM()\n",
    "\n",
    "#IBM1\n",
    "transProbs= model1.train_ibm(trainPairs, '', globals.THRESHOLD, transProbs, \"ibm1\")\n",
    "\n",
    "#IBM2\n",
    "#transProbs, probsVogel = model1.train_ibm(trainPairs, '', globals.THRESHOLD, transProbs, \"ibm2\")"
   ]
  },
  {
   "cell_type": "code",
   "execution_count": 59,
   "metadata": {
    "collapsed": false
   },
   "outputs": [
    {
     "name": "stdout",
     "output_type": "stream",
     "text": [
      "[(u'bon', 0.22802268352103777), (u'bonne', 0.20517922788525092), (u'bons', 0.06588995638697413), (u'bien', 0.061482614384397456), (u'bonnes', 0.05959483542066296), (u'de', 0.052765286353969196), (u'une', 0.039940287272757585), (u'excellent', 0.022930606862500594), (u'est', 0.021147725615607134), (u'un', 0.016553678795567517)]\n"
     ]
    }
   ],
   "source": [
    "import operator\n",
    "sorted_x = sorted(transProbs[\"good\"].items(), key=operator.itemgetter(1))\n",
    "sorted_x.reverse()\n",
    "#print sorted_x[0:10]\n",
    "sorted_p = sorted(probsVogel.items(), key=operator.itemgetter(1))\n",
    "sorted_p.reverse()\n",
    "\n",
    "\n",
    "print sorted_x[0:10]"
   ]
  },
  {
   "cell_type": "code",
   "execution_count": 5,
   "metadata": {
    "collapsed": false
   },
   "outputs": [],
   "source": [
    "cPickle.dump(transProbs, open(\"trans_probabilities_5_ibm_2\", 'wb'))\n",
    "cPickle.dump(probsVogel, open(\"vogel_probabilities_5_ibm_2\", \"wb\"))"
   ]
  },
  {
   "cell_type": "code",
   "execution_count": 2,
   "metadata": {
    "collapsed": false
   },
   "outputs": [
    {
     "name": "stdout",
     "output_type": "stream",
     "text": [
      "{1: 2, 3: 4}\n"
     ]
    }
   ],
   "source": [
    ""
   ]
  },
  {
   "cell_type": "code",
   "execution_count": null,
   "metadata": {
    "collapsed": true
   },
   "outputs": [],
   "source": [
    ""
   ]
  }
 ],
 "metadata": {
  "anaconda-cloud": {},
  "kernelspec": {
   "display_name": "Python [py27]",
   "language": "python",
   "name": "Python [py27]"
  },
  "language_info": {
   "codemirror_mode": {
    "name": "ipython",
    "version": 2.0
   },
   "file_extension": ".py",
   "mimetype": "text/x-python",
   "name": "python",
   "nbconvert_exporter": "python",
   "pygments_lexer": "ipython2",
   "version": "2.7.12"
  }
 },
 "nbformat": 4,
 "nbformat_minor": 0
}
